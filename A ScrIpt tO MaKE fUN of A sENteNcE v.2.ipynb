{
 "cells": [
  {
   "cell_type": "code",
   "execution_count": null,
   "metadata": {},
   "outputs": [],
   "source": [
    "#Execute the script, then highlight something. It will turn the \n",
    "#highlighted text into sponge-text and put it in your clip board.\n",
    "#Noice\n",
    "\n",
    "import random\n",
    "import pyautogui as pya #Used to press ctrl-c\n",
    "import pyperclip #Handy cross-platform clipboard text handler\n",
    "import time\n",
    "\n",
    "time.sleep(5) #Gives a 5 second delay, so you can highlight stuff\n",
    "\n",
    "def copy_clipboard():\n",
    "    pya.hotkey('ctrl', 'c')\n",
    "    time.sleep(.01) #ctrl-c is usually very fast but the program may execute faster\n",
    "    return pyperclip.paste()\n",
    "\n",
    "text = str(copy_clipboard()) #This copies what you have highlighted and makes it to a string\n",
    "\n",
    "def capi_sentence(sentence): #The sentence-converter starts here\n",
    "    new_sentence = \"\"\n",
    "    number = 0 #Dummy number for tracking\n",
    "\n",
    "    for letter in sentence.lower():\n",
    "        if len(new_sentence)<2: #Creates the first two letter\n",
    "            random_number = random.randint(0,1) #This randomly decides if the letter should be upper or lowercase\n",
    "            if random_number==0:\n",
    "                new_sentence += letter.upper()\n",
    "            else:\n",
    "                new_sentence += letter\n",
    "        else:\n",
    "            if (new_sentence[number-2].isupper() and new_sentence[number-1].isupper() or new_sentence[number-2].islower() and new_sentence[number-1].islower())==True:\n",
    "                #Checks if the two letters before are both upper or lowercase\n",
    "                if new_sentence[number-1].isupper(): #Makes the next letter the opposite of the letter before\n",
    "                    new_sentence += letter.lower()\n",
    "                else:\n",
    "                    new_sentence += letter.upper()\n",
    "            else:\n",
    "                random_number = random.randint(0,1)\n",
    "                if random_number==0:\n",
    "                    new_sentence += letter.upper()\n",
    "                else:\n",
    "                    new_sentence += letter\n",
    "                \n",
    "        number += 1 #Add one more to the tracking\n",
    "     \n",
    "    pyperclip.copy(str(new_sentence)) #Copies the new sentence as a string to the clip board\n",
    "    \n",
    "capi_sentence(text) #The executioner"
   ]
  }
 ],
 "metadata": {
  "kernelspec": {
   "display_name": "Python 3",
   "language": "python",
   "name": "python3"
  },
  "language_info": {
   "codemirror_mode": {
    "name": "ipython",
    "version": 3
   },
   "file_extension": ".py",
   "mimetype": "text/x-python",
   "name": "python",
   "nbconvert_exporter": "python",
   "pygments_lexer": "ipython3",
   "version": "3.7.6"
  }
 },
 "nbformat": 4,
 "nbformat_minor": 4
}
